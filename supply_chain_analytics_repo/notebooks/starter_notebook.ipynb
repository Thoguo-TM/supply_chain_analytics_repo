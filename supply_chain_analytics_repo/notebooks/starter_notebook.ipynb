{
 "cells": [
  {
   "cell_type": "markdown",
   "metadata": {},
   "source": [
    "# Starter Notebook\n",
    "Use this notebook to experiment and document your work.\n",
    "## Week 1 Goals:\n",
    "- Load the sample sales dataset\n",
    "- Perform basic cleaning\n",
    "- Summarize key metrics"
   ]
  }
 ],
 "metadata": {},
 "nbformat": 4,
 "nbformat_minor": 2
}
